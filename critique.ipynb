{
 "cells": [
  {
   "cell_type": "markdown",
   "metadata": {
    "collapsed": false
   },
   "source": [
    "# Critique 1  \n",
    "## Reviewer: Alexis Ford  \n",
    "## Reviewee: Afnan's Group (Data Panthers Classwork 4)  \n",
    "  \n",
    "Overall the code is organized very well. The module includes 3 functions: two functions that generate a list of primes in different ways, and a generator. At the end a `__main__` section, which makes the python module executable as a script from the command line and calls main() to output the list of primes to the user.  \n",
    "  \n",
    "The code is well-dcomunented, but could be improved to better meet industry standards. The module docstring is good, though it could use some rewording to make it more clear. It might also benefit from details regarding running the module as a script and the requirement of a command-line argument. Each function also has a docstring that describes the algorithm used to implement the functions. Though these docstrings mention the return tpe, they should also have a list of arguments and their types. There shoud also be a yield section for the generator function. In addition, it might also be beneficial to mention the exceptions raised during execution of the module, as well as the circumstances under which they are raised.  \n",
    "  \n",
    "The code and algorithms themselves are very easy to follow. There are meaningful comments that explain the main idea behind the algortihm at each step."
   ]
  },
  {
   "cell_type": "markdown",
   "metadata": {},
   "source": [
    "# Critique 2  \n",
    "## Reviewer: Afnan Alqahtani  \n",
    "## Reviewee: Alexis's Group (nv-shen Classwork 4)  \n",
    "  \n",
    "**Is it clear how the code is organized?**  \n",
    "  \n",
    "yes. very clear. They sit three functions with their three test functions.   \n",
    "  \n",
    "**Is the code properly documented with both docstrings and supplementary comments according to industry standards?**  \n",
    "  \n",
    "unfortunately they dont have enough describing in the docstrings and lack of comments.   \n",
    "  \n",
    "**Can you follow the algorithm of the code, i.e., what it is doing, and how?** \n",
    "\n",
    "yes. the first function generate primes numbers, the second one generate positive integers and the third one handle exception errors and make sure that the user input a positive number grater than 2.  \n",
    "  \n",
    "**Do you see any suggestions for how to improve the code?**  \n",
    "  \n",
    "maybe in the future adding some comments and docstrings would help, but generally the code was easy to follow."
   ]
  }
 ],
 "metadata": {
  "kernelspec": {
   "display_name": "Python 2 (SageMath)",
   "language": "python",
   "name": "python2"
  },
  "language_info": {
   "codemirror_mode": {
    "name": "ipython",
    "version": 2
   },
   "file_extension": ".py",
   "mimetype": "text/x-python",
   "name": "python",
   "nbconvert_exporter": "python",
   "pygments_lexer": "ipython2",
   "version": "2.7.10"
  }
 },
 "nbformat": 4,
 "nbformat_minor": 0
}
