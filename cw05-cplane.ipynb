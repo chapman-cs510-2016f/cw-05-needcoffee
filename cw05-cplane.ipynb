{
 "cells": [
  {
   "cell_type": "markdown",
   "metadata": {},
   "source": [
    "# Abstract Base Classes  \n",
    "Though abstract base classes do not do anything by themselves, they are an invaluable tool for programmers as a community. The idea behind these classes is to create what is essentially an outline for a class. A new class is made that subclasses the abstract base class. The subclass must have atributes and methods specified in the abstract class while details of implementation are left to the individual programmer. This imposes a consistsancy that may otherwise not be present, making it easier to share code with other programmers, code that presents the same general idea in a carefully formatted way, but which may vary in the details, leaving room for creativity and improvement of algorithms.\n",
    "\n",
    "4 functions, 10 atributes\n",
    "constructor uses list comprehension to create list of lists that hold complex numbers of the plane\n",
    "\n",
    "refresh function recalculates each point in the plane, including atributes that may have been changed since creation of the plane\n",
    "\n",
    "set_f reassigns the f attribute, then calls refresh to apply the function to all points in the plane"
   ]
  },
  {
   "cell_type": "markdown",
   "metadata": {},
   "source": [
    "# Implementing the Complex Plane: The ComplexPlane class  \n",
    "Our implementation of the CompexPlane class, which is a subclass of the abstract base class AbsComplexPlane, includes 4 functions and 10 arguments."
   ]
  },
  {
   "cell_type": "code",
   "execution_count": 7,
   "metadata": {
    "collapsed": false
   },
   "outputs": [],
   "source": [
    "import cplane"
   ]
  },
  {
   "cell_type": "code",
   "execution_count": 8,
   "metadata": {
    "collapsed": false
   },
   "outputs": [],
   "source": [
    "testPlane = cplane.ComplexPlane(-5,5,11,-5,5,11)"
   ]
  },
  {
   "cell_type": "markdown",
   "metadata": {},
   "source": [
    "Our `__init__` constructor takes 6 arguments to set the window for the complex plane: xmin, xmax, xlen, ymin, ymax, ylen. The minimums and maximums determine on which value each axis (x being the real axis and y being the imaginary axis) begins and ends. The len arguments dtermine the density of the points along each axis. When the constructor is called, attribute f is instantiated as the identity function, and the final 3 attributes are calculated. The attributes xtick and ytick determine how far apart each point is vertically and horizontally, based on the minimum, maximum, and density for each axis. The final attribute, plane, is a list of lists, which is generated using the other attributes: a list of complex numbers representing one column (imaginary parts of the complex numbers) of the complex plane is generated, then each list is paired with a corresponding row (real part of the complex numbers) to create a 2D plane."
   ]
  },
  {
   "cell_type": "code",
   "execution_count": 9,
   "metadata": {
    "collapsed": true
   },
   "outputs": [],
   "source": [
    "testPlane.refresh()"
   ]
  },
  {
   "cell_type": "markdown",
   "metadata": {},
   "source": [
    "The next function refreshes the complex plane. That is, it recalculates each complex number point based on the attributes for the object, Should any changes be made to the attributes, this function ensures those changes are taken into effect."
   ]
  },
  {
   "cell_type": "code",
   "execution_count": 10,
   "metadata": {
    "collapsed": true
   },
   "outputs": [],
   "source": [
    "testPlane.zoom(0,5,6,0,5,6)"
   ]
  },
  {
   "cell_type": "markdown",
   "metadata": {},
   "source": [
    "The zoom function takes 6 arguments, much like the constructor. These arguments reset minimum and maximum values for each axis, as well as the density of points on each axis. It essentially acts like adjusting the viewing window in a graphing calculator, alowing for a moved window of the complex plane, a more detailed (zoomed in) look at the plane, or a more general (zoomed out) view of the plane."
   ]
  },
  {
   "cell_type": "code",
   "execution_count": 11,
   "metadata": {
    "collapsed": true
   },
   "outputs": [],
   "source": [
    "testPlane.set_f(lambda x:x**2)"
   ]
  },
  {
   "cell_type": "markdown",
   "metadata": {},
   "source": [
    "The final function transforms the complex plane. For a function inputted by the user, `set_f` applies this function to every point on the complex plane. It then calls `refresh()` so that those changes take effect immediately."
   ]
  }
 ],
 "metadata": {
  "kernelspec": {
   "display_name": "Anaconda (Python 3)",
   "language": "python",
   "name": "anaconda3"
  },
  "language_info": {
   "codemirror_mode": {
    "name": "ipython",
    "version": 3
   },
   "file_extension": ".py",
   "mimetype": "text/x-python",
   "name": "python",
   "nbconvert_exporter": "python",
   "pygments_lexer": "ipython3",
   "version": "3.5.2"
  }
 },
 "nbformat": 4,
 "nbformat_minor": 0
}
